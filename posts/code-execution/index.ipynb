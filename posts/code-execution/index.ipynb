{
  "cells": [
    {
      "cell_type": "raw",
      "metadata": {},
      "source": [
        "---\n",
        "title: \"Code Executioin\"\n",
        "author: \"ZHU QUANMING\"\n",
        "date: \"2024-06-22 12:30:40\"\n",
        "categories: [quarto,website,guide]\n",
        "title-block:\n",
        "  author: \"作者\"\n",
        "  date: \"发布日期\"\n",
        "---"
      ],
      "id": "43cc7212"
    },
    {
      "cell_type": "markdown",
      "metadata": {},
      "source": [
        "import seaborn as sns\n",
        "import matplotlib.pyplot as plt\n",
        "\n",
        "# Sample data\n",
        "tips = sns.load_dataset(\"tips\")\n",
        "# Create a seaborn plot\n",
        "sns.set_style(\"whitegrid\")\n",
        "g = sns.lmplot(x=\"total_bill\", y=\"tip\", data=tips, aspect=2)\n",
        "g = g.set_axis_labels(\"**Total** bill (USD)\", \"*Tip*\").set(xlim=(0, 60), ylim=(0, 12))\n",
        "\n",
        "plt.title(\"Tip by Total Bill\")\n",
        "plt.show()\n",
        "\n",
        "## 标题2\n",
        "\n",
        "### 标题-3季\n",
        "\n",
        "\n",
        "```{sql connection=}\n",
        "test\n",
        "\n",
        "```\n",
        "\n",
        "\n",
        "::: panel-tabset\n",
        "## table1\n",
        "\n",
        "这个能显示处理啊吗\n",
        "\n",
        "## tab2\n",
        "\n",
        "## tab3\n",
        ":::"
      ],
      "id": "ae9c6ca7"
    }
  ],
  "metadata": {
    "kernelspec": {
      "display_name": "Python 3",
      "language": "python",
      "name": "python3"
    }
  },
  "nbformat": 4,
  "nbformat_minor": 5
}